{
 "cells": [
  {
   "cell_type": "markdown",
   "metadata": {},
   "source": [
    "## 실습. Histogram 함수 작성해보기\n",
    ">리스트를 받아서, 히스토그램을 그리는 함수\n",
    ">- 입력값 : [\"cat\", \"cat\", \"cat\", \"sheep\", \"sheep\", \"duck\", \"duck\", \"duck\", \"duck\" ]"
   ]
  },
  {
   "cell_type": "code",
   "execution_count": 1,
   "metadata": {},
   "outputs": [],
   "source": [
    "from functools import *"
   ]
  },
  {
   "cell_type": "code",
   "execution_count": 2,
   "metadata": {},
   "outputs": [],
   "source": [
    "data = [\"cat\", \"cat\", \"cat\", \"sheep\", \"sheep\", \"duck\", \"duck\", \"duck\", \"duck\" ]"
   ]
  },
  {
   "cell_type": "markdown",
   "metadata": {},
   "source": [
    "### Reduce 사용 안 한 version "
   ]
  },
  {
   "cell_type": "code",
   "execution_count": 3,
   "metadata": {},
   "outputs": [],
   "source": [
    "def draw_histogram1(data):\n",
    "    cat_cnt   = 0\n",
    "    sheep_cnt = 0\n",
    "    duck_cnt  = 0\n",
    "\n",
    "    for i in data:\n",
    "        if i == \"cat\":\n",
    "            cat_cnt += 1\n",
    "        elif i == \"sheep\":\n",
    "            sheep_cnt += 1\n",
    "        elif i == \"duck\":\n",
    "            duck_cnt += 1\n",
    "    \n",
    "    print('cat' + ' '*4 + '='*cat_cnt)\n",
    "    print('sheep'+' '*2 +'='*sheep_cnt)\n",
    "    print('duck'+' '*3 +'='*duck_cnt)"
   ]
  },
  {
   "cell_type": "code",
   "execution_count": 4,
   "metadata": {},
   "outputs": [
    {
     "name": "stdout",
     "output_type": "stream",
     "text": [
      "cat    ===\n",
      "sheep  ==\n",
      "duck   ====\n"
     ]
    }
   ],
   "source": [
    "draw_histogram1(data)"
   ]
  },
  {
   "cell_type": "markdown",
   "metadata": {},
   "source": [
    "### Reduce 사용 한 version "
   ]
  },
  {
   "cell_type": "code",
   "execution_count": 7,
   "metadata": {},
   "outputs": [],
   "source": [
    "data = [\"cat\", \"cat\", \"cat\", \"sheep\", \"sheep\", \"duck\", \"duck\", \"duck\", \"duck\", \"dog\"]\n",
    "\n",
    "def draw_histogram2(data):\n",
    "    \n",
    "    a = reduce(lambda x, y: x + (1 if y == 'cat' else 0), data,   0)\n",
    "    b = reduce(lambda x, y: x + (1 if y == 'sheep' else 0), data, 0)\n",
    "    c = reduce(lambda x, y: x + (1 if y == 'duck' else 0), data,  0)\n",
    "    \n",
    "    print('cat' + ' '*4 + '='*a)\n",
    "    print('sheep'+' '*2 +'='*b)\n",
    "    print('duck'+' '*3 +'='*c)\n",
    "\n",
    "#     print('cat' + ' '*4 + '='*reduce(lambda x, y: x + (1 if y == 'cat' else 0), data, 0))\n",
    "#     print('sheep'+' '*2 +'='*reduce(lambda x, y: x + (1 if y == 'sheep' else 0), data, 0))\n",
    "#     print('duck'+' '*3 +'='*reduce(lambda x, y: x + (1 if y == 'duck' else 0), data, 0))\n"
   ]
  },
  {
   "cell_type": "code",
   "execution_count": 8,
   "metadata": {},
   "outputs": [
    {
     "name": "stdout",
     "output_type": "stream",
     "text": [
      "cat    ===\n",
      "sheep  ==\n",
      "duck   ====\n"
     ]
    }
   ],
   "source": [
    "draw_histogram2(data)"
   ]
  },
  {
   "cell_type": "code",
   "execution_count": null,
   "metadata": {},
   "outputs": [],
   "source": []
  }
 ],
 "metadata": {
  "kernelspec": {
   "display_name": "Python 3",
   "language": "python",
   "name": "python3"
  },
  "language_info": {
   "codemirror_mode": {
    "name": "ipython",
    "version": 3
   },
   "file_extension": ".py",
   "mimetype": "text/x-python",
   "name": "python",
   "nbconvert_exporter": "python",
   "pygments_lexer": "ipython3",
   "version": "3.8.5"
  }
 },
 "nbformat": 4,
 "nbformat_minor": 4
}
