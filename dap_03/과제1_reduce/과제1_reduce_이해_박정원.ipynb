{
 "cells": [
  {
   "cell_type": "code",
   "execution_count": 1,
   "metadata": {},
   "outputs": [],
   "source": [
    "from functools import *"
   ]
  },
  {
   "cell_type": "markdown",
   "metadata": {},
   "source": [
    "## 실습: Histogram 함수 작성해 보기\n",
    "> list를 받아, 히스토그램을 그리는 함수\n",
    "- 입력값: [cat, cat, cat, sheep, sheep, duck, duck, duck, duck]"
   ]
  },
  {
   "cell_type": "code",
   "execution_count": 2,
   "metadata": {},
   "outputs": [],
   "source": [
    "data = [\"cat\", \"cat\", \"cat\", \"sheep\", \"sheep\", \"duck\", \"duck\", \"duck\", \"duck\"]"
   ]
  },
  {
   "cell_type": "code",
   "execution_count": 3,
   "metadata": {},
   "outputs": [],
   "source": [
    "def draw_hist(data):\n",
    "    title = input(\"히스토그램 제목을 입력해주세요. \")\n",
    "    \n",
    "    # data(list) -> hist(dict)\n",
    "    hist = {}\n",
    "    for dt in data:\n",
    "        if dt in hist.keys():\n",
    "            hist[dt] += 1\n",
    "        else:\n",
    "            hist[dt] = 1\n",
    "    \n",
    "    print(\"\\n 항목\\t\\t개수\"); print('-' * 30)\n",
    "    \n",
    "    # Drawing histogram\n",
    "    for key, value in hist.items():\n",
    "        print(\"{key}\\t: {histogram}\" \n",
    "              .format(key = key, histogram = \"■\" * value))\n",
    "    \n",
    "    # Title\n",
    "    print('-' * 30); print(\"<\", title, \">\")"
   ]
  },
  {
   "cell_type": "code",
   "execution_count": 4,
   "metadata": {},
   "outputs": [
    {
     "name": "stdout",
     "output_type": "stream",
     "text": [
      "히스토그램 제목을 입력해주세요. 동물숫자통계\n",
      "\n",
      " 항목\t\t개수\n",
      "------------------------------\n",
      "cat\t: ■■■\n",
      "sheep\t: ■■\n",
      "duck\t: ■■■■\n",
      "------------------------------\n",
      "< 동물숫자통계 >\n"
     ]
    }
   ],
   "source": [
    "draw_hist(data)"
   ]
  },
  {
   "cell_type": "code",
   "execution_count": 5,
   "metadata": {},
   "outputs": [
    {
     "name": "stdout",
     "output_type": "stream",
     "text": [
      "히스토그램 제목을 입력해주세요. test\n",
      "\n",
      " 항목\t\t개수\n",
      "------------------------------\n",
      "apple\t: ■■■\n",
      "candy\t: ■■■■\n",
      "peach\t: ■■■■■\n",
      "meron\t: ■■\n",
      "------------------------------\n",
      "< test >\n"
     ]
    }
   ],
   "source": [
    "test = [\"apple\", \"apple\", \"apple\",\n",
    "        \"candy\", \"candy\", \"candy\", \"candy\",\n",
    "        \"peach\", \"peach\", \"peach\", \"peach\", \"peach\",\n",
    "        \"meron\", \"meron\"]\n",
    "\n",
    "draw_hist(test)"
   ]
  },
  {
   "cell_type": "code",
   "execution_count": null,
   "metadata": {},
   "outputs": [],
   "source": []
  }
 ],
 "metadata": {
  "kernelspec": {
   "display_name": "Python 3",
   "language": "python",
   "name": "python3"
  },
  "language_info": {
   "codemirror_mode": {
    "name": "ipython",
    "version": 3
   },
   "file_extension": ".py",
   "mimetype": "text/x-python",
   "name": "python",
   "nbconvert_exporter": "python",
   "pygments_lexer": "ipython3",
   "version": "3.8.5"
  }
 },
 "nbformat": 4,
 "nbformat_minor": 4
}
